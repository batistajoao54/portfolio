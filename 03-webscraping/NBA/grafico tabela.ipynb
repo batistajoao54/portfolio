{
 "cells": [
  {
   "cell_type": "code",
   "execution_count": 1,
   "id": "e1baf795",
   "metadata": {},
   "outputs": [],
   "source": [
    "import pandas as pd\n",
    "import plotly.figure_factory as ff"
   ]
  },
  {
   "cell_type": "code",
   "execution_count": 4,
   "id": "86ec083b",
   "metadata": {},
   "outputs": [
    {
     "data": {
      "text/html": [
       "<div>\n",
       "<style scoped>\n",
       "    .dataframe tbody tr th:only-of-type {\n",
       "        vertical-align: middle;\n",
       "    }\n",
       "\n",
       "    .dataframe tbody tr th {\n",
       "        vertical-align: top;\n",
       "    }\n",
       "\n",
       "    .dataframe thead th {\n",
       "        text-align: right;\n",
       "    }\n",
       "</style>\n",
       "<table border=\"1\" class=\"dataframe\">\n",
       "  <thead>\n",
       "    <tr style=\"text-align: right;\">\n",
       "      <th></th>\n",
       "      <th>DATA</th>\n",
       "      <th>VISITANTE</th>\n",
       "      <th>CASA</th>\n",
       "      <th>VENCEDOR</th>\n",
       "      <th>WIN_PONTOS</th>\n",
       "      <th>LOSER_PONTOS</th>\n",
       "      <th>PERDEDOR</th>\n",
       "    </tr>\n",
       "  </thead>\n",
       "  <tbody>\n",
       "    <tr>\n",
       "      <th>0</th>\n",
       "      <td>19-10-2021</td>\n",
       "      <td>BKN</td>\n",
       "      <td>MIL</td>\n",
       "      <td>MIL</td>\n",
       "      <td>127</td>\n",
       "      <td>104</td>\n",
       "      <td>BKN</td>\n",
       "    </tr>\n",
       "    <tr>\n",
       "      <th>1</th>\n",
       "      <td>19-10-2021</td>\n",
       "      <td>GS</td>\n",
       "      <td>LAL</td>\n",
       "      <td>GS</td>\n",
       "      <td>121</td>\n",
       "      <td>114</td>\n",
       "      <td>LAL</td>\n",
       "    </tr>\n",
       "    <tr>\n",
       "      <th>2</th>\n",
       "      <td>20-10-2021</td>\n",
       "      <td>IND</td>\n",
       "      <td>CHA</td>\n",
       "      <td>CHA</td>\n",
       "      <td>123</td>\n",
       "      <td>122</td>\n",
       "      <td>IND</td>\n",
       "    </tr>\n",
       "    <tr>\n",
       "      <th>3</th>\n",
       "      <td>20-10-2021</td>\n",
       "      <td>CHI</td>\n",
       "      <td>DET</td>\n",
       "      <td>CHI</td>\n",
       "      <td>94</td>\n",
       "      <td>88</td>\n",
       "      <td>DET</td>\n",
       "    </tr>\n",
       "    <tr>\n",
       "      <th>4</th>\n",
       "      <td>20-10-2021</td>\n",
       "      <td>BOS</td>\n",
       "      <td>NY</td>\n",
       "      <td>NY</td>\n",
       "      <td>138</td>\n",
       "      <td>134</td>\n",
       "      <td>BOS</td>\n",
       "    </tr>\n",
       "  </tbody>\n",
       "</table>\n",
       "</div>"
      ],
      "text/plain": [
       "         DATA VISITANTE CASA VENCEDOR  WIN_PONTOS  LOSER_PONTOS PERDEDOR\n",
       "0  19-10-2021       BKN  MIL      MIL         127           104      BKN\n",
       "1  19-10-2021        GS  LAL      GS          121           114      LAL\n",
       "2  20-10-2021       IND  CHA      CHA         123           122      IND\n",
       "3  20-10-2021       CHI  DET      CHI          94            88      DET\n",
       "4  20-10-2021       BOS   NY      NY          138           134      BOS"
      ]
     },
     "execution_count": 4,
     "metadata": {},
     "output_type": "execute_result"
    }
   ],
   "source": [
    "df = pd.read_csv(\"NBA_Atual.csv\")\n",
    "df.head()"
   ]
  },
  {
   "cell_type": "code",
   "execution_count": 5,
   "id": "f82a1fe5",
   "metadata": {},
   "outputs": [],
   "source": [
    "fig = ff.create_table(df, height_constant=60)"
   ]
  },
  {
   "cell_type": "code",
   "execution_count": 7,
   "id": "ea7d22af",
   "metadata": {
    "scrolled": false
   },
   "outputs": [],
   "source": [
    "#fig.show()"
   ]
  },
  {
   "attachments": {
    "tabela.png": {
     "image/png": "[encoded data removed]"
    }
   },
   "cell_type": "markdown",
   "id": "830f0494",
   "metadata": {},
   "source": [
    "![tabela.png](attachment:tabela.png)\n"
   ]
  },
  {
   "cell_type": "code",
   "execution_count": null,
   "id": "23b5a7bf",
   "metadata": {},
   "outputs": [],
   "source": []
  },
  {
   "cell_type": "code",
   "execution_count": null,
   "id": "1e4b5d52",
   "metadata": {},
   "outputs": [],
   "source": []
  },
  {
   "cell_type": "code",
   "execution_count": null,
   "id": "575f961d",
   "metadata": {},
   "outputs": [],
   "source": []
  },
  {
   "cell_type": "code",
   "execution_count": null,
   "id": "ce30f501",
   "metadata": {},
   "outputs": [],
   "source": []
  },
  {
   "cell_type": "code",
   "execution_count": null,
   "id": "4eaaff4a",
   "metadata": {},
   "outputs": [],
   "source": []
  },
  {
   "cell_type": "code",
   "execution_count": null,
   "id": "b38982db",
   "metadata": {},
   "outputs": [],
   "source": []
  },
  {
   "cell_type": "code",
   "execution_count": null,
   "id": "6102d77c",
   "metadata": {},
   "outputs": [],
   "source": []
  },
  {
   "cell_type": "code",
   "execution_count": null,
   "id": "0a0c447d",
   "metadata": {},
   "outputs": [],
   "source": []
  },
  {
   "cell_type": "code",
   "execution_count": null,
   "id": "ea41a0bd",
   "metadata": {},
   "outputs": [],
   "source": []
  }
 ],
 "metadata": {
  "kernelspec": {
   "display_name": "Python 3",
   "language": "python",
   "name": "python3"
  },
  "language_info": {
   "codemirror_mode": {
    "name": "ipython",
    "version": 3
   },
   "file_extension": ".py",
   "mimetype": "text/x-python",
   "name": "python",
   "nbconvert_exporter": "python",
   "pygments_lexer": "ipython3",
   "version": "3.8.8"
  }
 },
 "nbformat": 4,
 "nbformat_minor": 5
}
