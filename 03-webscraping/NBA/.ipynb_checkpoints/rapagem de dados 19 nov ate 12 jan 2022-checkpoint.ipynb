{
 "cells": [
  {
   "cell_type": "code",
   "execution_count": 1,
   "id": "2f57b52e",
   "metadata": {},
   "outputs": [],
   "source": [
    "import pandas as pd\n",
    "import requests"
   ]
  },
  {
   "cell_type": "code",
   "execution_count": 8,
   "id": "e9971c6c",
   "metadata": {},
   "outputs": [
    {
     "name": "stdout",
     "output_type": "stream",
     "text": [
      "<Response [200]>\n"
     ]
    }
   ],
   "source": [
    "url = 'https://www.espn.com.br/nba/calendario/_/data/20211020'\n",
    "\n",
    "res = requests.get(url)\n",
    "\n",
    "print(res)"
   ]
  },
  {
   "cell_type": "markdown",
   "id": "253911d1",
   "metadata": {
    "heading_collapsed": true
   },
   "source": [
    "#  Coletando os dados"
   ]
  },
  {
   "cell_type": "code",
   "execution_count": 24,
   "id": "1bb05dd7",
   "metadata": {
    "hidden": true
   },
   "outputs": [
    {
     "data": {
      "text/plain": [
       "[19, 20, 21, 22, 23, 24, 25, 26, 27, 28, 29, 30, 31]"
      ]
     },
     "execution_count": 24,
     "metadata": {},
     "output_type": "execute_result"
    }
   ],
   "source": [
    "#outubro 19 à 31\n",
    "lista = [19,20,21,22,23,24,25,26,27,28,29,30,31]\n",
    "lista"
   ]
  },
  {
   "cell_type": "code",
   "execution_count": 47,
   "id": "40dec633",
   "metadata": {
    "hidden": true
   },
   "outputs": [],
   "source": [
    "dadosoutubro = []\n",
    "for i in lista:\n",
    "    url = f'https://www.espn.com.br/nba/calendario/_/data/202110{i}'\n",
    "    res = requests.get(url)\n",
    "    df = pd.read_html(res.text)\n",
    "    dados = df[0].copy()\n",
    "    dados['date'] = f'{i}-10-2021'\n",
    "    dadosoutubro.append(dados)\n",
    "    \n",
    "    "
   ]
  },
  {
   "cell_type": "code",
   "execution_count": 55,
   "id": "71796e7b",
   "metadata": {
    "hidden": true
   },
   "outputs": [],
   "source": [
    "#novenbro 1 à 30\n",
    "lista = ['01','02','03','04','05','06','07','08','09','10','11','12','13','14','15','16','17','18','19','20','21','22','23','24','25','26','27','28','29','30']\n"
   ]
  },
  {
   "cell_type": "code",
   "execution_count": 61,
   "id": "2774ec90",
   "metadata": {
    "hidden": true
   },
   "outputs": [
    {
     "name": "stdout",
     "output_type": "stream",
     "text": [
      "fim\n"
     ]
    }
   ],
   "source": [
    "dadosnovembro = []\n",
    "for i in lista:\n",
    "    url = f'https://www.espn.com.br/nba/calendario/_/data/202111{i}'\n",
    "    res = requests.get(url)\n",
    "    df = pd.read_html(res.text)\n",
    "    dados = df[0].copy()\n",
    "    dados['date'] = f'{i}-11-2021'\n",
    "    dadosnovembro.append(dados)\n",
    "print('fim')"
   ]
  },
  {
   "cell_type": "code",
   "execution_count": 65,
   "id": "45de83b9",
   "metadata": {
    "hidden": true
   },
   "outputs": [],
   "source": [
    "#dezembro 1 à 31\n",
    "lista = ['01','02','03','04','05','06','07','08','09','10','11','12','13','14','15','16','17','18','19','20','21','22','23','25','26','27','28','29','30','31']\n"
   ]
  },
  {
   "cell_type": "code",
   "execution_count": 66,
   "id": "f6a8a4fa",
   "metadata": {
    "hidden": true
   },
   "outputs": [
    {
     "name": "stdout",
     "output_type": "stream",
     "text": [
      "fim\n"
     ]
    }
   ],
   "source": [
    "dadosdezembro = []\n",
    "for i in lista:\n",
    "    url = f'https://www.espn.com.br/nba/calendario/_/data/202112{i}'\n",
    "    res = requests.get(url)\n",
    "    df = pd.read_html(res.text)\n",
    "    dados = df[0].copy()\n",
    "    dados['date'] = f'{i}-12-2021'\n",
    "    dadosdezembro.append(dados)\n",
    "print('fim')"
   ]
  },
  {
   "cell_type": "code",
   "execution_count": 68,
   "id": "5f123f21",
   "metadata": {
    "hidden": true
   },
   "outputs": [],
   "source": [
    "# 2022\n",
    "#Janeiro 1 à 31\n",
    "lista = ['01','02','03','04','05','06','07','08','09','10','11','12']\n"
   ]
  },
  {
   "cell_type": "code",
   "execution_count": 70,
   "id": "ab4cb942",
   "metadata": {
    "hidden": true
   },
   "outputs": [
    {
     "name": "stdout",
     "output_type": "stream",
     "text": [
      "fim\n"
     ]
    }
   ],
   "source": [
    "dadosjaneiro = []\n",
    "for i in lista:\n",
    "    url = f'https://www.espn.com.br/nba/calendario/_/data/202201{i}'\n",
    "    res = requests.get(url)\n",
    "    df = pd.read_html(res.text)\n",
    "    dados = df[0].copy()\n",
    "    dados['date'] = f'{i}-01-2022'\n",
    "    dadosjaneiro.append(dados)\n",
    "print('fim')"
   ]
  },
  {
   "cell_type": "markdown",
   "id": "f92d219c",
   "metadata": {
    "heading_collapsed": true
   },
   "source": [
    "# Juntando os dados coletados"
   ]
  },
  {
   "cell_type": "code",
   "execution_count": 73,
   "id": "501b3e58",
   "metadata": {
    "hidden": true
   },
   "outputs": [],
   "source": [
    "#juntado os dados mes a mes iniciaremos com outubro"
   ]
  },
  {
   "cell_type": "code",
   "execution_count": 79,
   "id": "70743dfe",
   "metadata": {
    "hidden": true
   },
   "outputs": [],
   "source": [
    "dia19 = dadosoutubro[0]\n",
    "dia20 = dadosoutubro[1]\n",
    "dia21 = dadosoutubro[2]\n",
    "dia22 = dadosoutubro[3]\n",
    "dia23 = dadosoutubro[4]\n",
    "dia24 = dadosoutubro[5]\n",
    "dia25 = dadosoutubro[6]\n",
    "dia26 = dadosoutubro[7]\n",
    "dia27 = dadosoutubro[8]\n",
    "dia28 = dadosoutubro[9]\n",
    "dia29 = dadosoutubro[10]\n",
    "dia30 = dadosoutubro[11]\n",
    "dia31 = dadosoutubro[12]\n"
   ]
  },
  {
   "cell_type": "code",
   "execution_count": 92,
   "id": "25285a4c",
   "metadata": {
    "hidden": true
   },
   "outputs": [],
   "source": [
    "baseoutubro = pd.concat([dia19,dia20,dia21,dia22,dia23,dia24,dia25,dia26,dia27,dia28,dia29,dia30,dia31])\n"
   ]
  },
  {
   "cell_type": "code",
   "execution_count": null,
   "id": "58aa12de",
   "metadata": {
    "hidden": true,
    "scrolled": false
   },
   "outputs": [],
   "source": []
  },
  {
   "cell_type": "code",
   "execution_count": 94,
   "id": "19a3995f",
   "metadata": {
    "hidden": true
   },
   "outputs": [],
   "source": [
    "#juntando os dados de novembro"
   ]
  },
  {
   "cell_type": "code",
   "execution_count": 95,
   "id": "bb49b132",
   "metadata": {
    "hidden": true
   },
   "outputs": [],
   "source": [
    "dia1 = dadosnovembro[0]\n",
    "dia2 = dadosnovembro[1]\n",
    "dia3 = dadosnovembro[2]\n",
    "dia4 = dadosnovembro[3]\n",
    "dia5 = dadosnovembro[4]\n",
    "dia6 = dadosnovembro[5]\n",
    "dia7 = dadosnovembro[6]\n",
    "dia8 = dadosnovembro[7]\n",
    "dia9 = dadosnovembro[8]\n",
    "dia10 = dadosnovembro[9]\n",
    "dia11 = dadosnovembro[10]\n",
    "dia12 = dadosnovembro[11]\n",
    "dia13 = dadosnovembro[12]\n",
    "dia14 = dadosnovembro[13]\n",
    "dia15 = dadosnovembro[14]\n",
    "dia16 = dadosnovembro[15]\n",
    "dia17 = dadosnovembro[16]\n",
    "dia18 = dadosnovembro[17]\n",
    "dia19 = dadosnovembro[18]\n",
    "dia20 = dadosnovembro[19]\n",
    "dia21 = dadosnovembro[20]\n",
    "dia22 = dadosnovembro[21]\n",
    "dia23 = dadosnovembro[22]\n",
    "dia24 = dadosnovembro[23]\n",
    "dia25 = dadosnovembro[24]\n",
    "dia26 = dadosnovembro[25]\n",
    "dia27 = dadosnovembro[26]\n",
    "dia28 = dadosnovembro[27]\n",
    "dia29 = dadosnovembro[28]\n",
    "dia30 = dadosnovembro[29]"
   ]
  },
  {
   "cell_type": "code",
   "execution_count": 96,
   "id": "9fad5477",
   "metadata": {
    "hidden": true
   },
   "outputs": [],
   "source": [
    "basenovembro = pd.concat([dia1,dia2,dia3,dia4,dia5,dia6,dia7,dia8,dia9,dia10,\n",
    "                         dia11,dia12,dia13,dia14,dia15,dia16,dia17,dia18,dia19,dia20,\n",
    "                         dia21,dia22,dia23,dia24,dia25,dia26,dia27,dia28,dia29,dia30])"
   ]
  },
  {
   "cell_type": "code",
   "execution_count": null,
   "id": "578e2b07",
   "metadata": {
    "hidden": true
   },
   "outputs": [],
   "source": []
  },
  {
   "cell_type": "code",
   "execution_count": null,
   "id": "467bea76",
   "metadata": {
    "hidden": true
   },
   "outputs": [],
   "source": [
    "#daos de dezembro"
   ]
  },
  {
   "cell_type": "code",
   "execution_count": 98,
   "id": "d0471bd7",
   "metadata": {
    "hidden": true
   },
   "outputs": [],
   "source": [
    "dia1 = dadosdezembro[0]\n",
    "dia2 = dadosdezembro[1]\n",
    "dia3 = dadosdezembro[2]\n",
    "dia4 = dadosdezembro[3]\n",
    "dia5 = dadosdezembro[4]\n",
    "dia6 = dadosdezembro[5]\n",
    "dia7 = dadosdezembro[6]\n",
    "dia8 = dadosdezembro[7]\n",
    "dia9 = dadosdezembro[8]\n",
    "dia10 = dadosdezembro[9]\n",
    "dia11 = dadosdezembro[10]\n",
    "dia12 = dadosdezembro[11]\n",
    "dia13 = dadosdezembro[12]\n",
    "dia14 = dadosdezembro[13]\n",
    "dia15 = dadosdezembro[14]\n",
    "dia16 = dadosdezembro[15]\n",
    "dia17 = dadosdezembro[16]\n",
    "dia18 = dadosdezembro[17]\n",
    "dia19 = dadosdezembro[18]\n",
    "dia20 = dadosdezembro[19]\n",
    "dia21 = dadosdezembro[20]\n",
    "dia22 = dadosdezembro[21]\n",
    "dia23 = dadosdezembro[22]\n",
    "dia25 = dadosdezembro[23]\n",
    "dia26 = dadosdezembro[24]\n",
    "dia27 = dadosdezembro[25]\n",
    "dia28 = dadosdezembro[26]\n",
    "dia29 = dadosdezembro[27]\n",
    "dia30 = dadosdezembro[28]\n",
    "dia31 = dadosdezembro[29]"
   ]
  },
  {
   "cell_type": "code",
   "execution_count": 99,
   "id": "5b493c62",
   "metadata": {
    "hidden": true
   },
   "outputs": [],
   "source": [
    "basedezembro = pd.concat([dia1,dia2,dia3,dia4,dia5,dia6,dia7,dia8,dia9,dia10,\n",
    "                         dia11,dia12,dia13,dia14,dia15,dia16,dia17,dia18,dia19,dia20,\n",
    "                         dia21,dia22,dia23,dia25,dia26,dia27,dia28,dia29,dia30,dia31])"
   ]
  },
  {
   "cell_type": "code",
   "execution_count": null,
   "id": "46f10e7b",
   "metadata": {
    "hidden": true
   },
   "outputs": [],
   "source": []
  },
  {
   "cell_type": "code",
   "execution_count": 104,
   "id": "e0740ad1",
   "metadata": {
    "hidden": true
   },
   "outputs": [],
   "source": [
    "#janeiro de 2022"
   ]
  },
  {
   "cell_type": "code",
   "execution_count": 105,
   "id": "04c61feb",
   "metadata": {
    "hidden": true
   },
   "outputs": [],
   "source": [
    "dia1 = dadosjaneiro[0]\n",
    "dia2 = dadosjaneiro[1]\n",
    "dia3 = dadosjaneiro[2]\n",
    "dia4 = dadosjaneiro[3]\n",
    "dia5 = dadosjaneiro[4]\n",
    "dia6 = dadosjaneiro[5]\n",
    "dia7 = dadosjaneiro[6]\n",
    "dia8 = dadosjaneiro[7]\n",
    "dia9 = dadosjaneiro[8]\n",
    "dia10 = dadosjaneiro[9]\n",
    "dia11 = dadosjaneiro[10]\n",
    "dia12 = dadosjaneiro[11]"
   ]
  },
  {
   "cell_type": "code",
   "execution_count": 106,
   "id": "5110c0c6",
   "metadata": {
    "hidden": true
   },
   "outputs": [],
   "source": [
    "basejaneiro = pd.concat([dia1,dia2,dia3,dia4,dia5,dia6,dia7,dia8,dia9,dia10,\n",
    "                         dia11,dia12])"
   ]
  },
  {
   "cell_type": "code",
   "execution_count": null,
   "id": "b578422f",
   "metadata": {
    "hidden": true
   },
   "outputs": [],
   "source": []
  },
  {
   "cell_type": "markdown",
   "id": "fc3016f9",
   "metadata": {},
   "source": [
    "# Modelando os dados coletados"
   ]
  },
  {
   "cell_type": "code",
   "execution_count": 108,
   "id": "2dfa2724",
   "metadata": {},
   "outputs": [],
   "source": [
    "# baseoutubro\n",
    "# basenovembro\n",
    "# basedezembro\n",
    "# basejaneiro"
   ]
  },
  {
   "cell_type": "code",
   "execution_count": 114,
   "id": "f60ad0a9",
   "metadata": {},
   "outputs": [
    {
     "data": {
      "text/html": [
       "<div>\n",
       "<style scoped>\n",
       "    .dataframe tbody tr th:only-of-type {\n",
       "        vertical-align: middle;\n",
       "    }\n",
       "\n",
       "    .dataframe tbody tr th {\n",
       "        vertical-align: top;\n",
       "    }\n",
       "\n",
       "    .dataframe thead th {\n",
       "        text-align: right;\n",
       "    }\n",
       "</style>\n",
       "<table border=\"1\" class=\"dataframe\">\n",
       "  <thead>\n",
       "    <tr style=\"text-align: right;\">\n",
       "      <th></th>\n",
       "      <th>matchup</th>\n",
       "      <th>Unnamed: 1</th>\n",
       "      <th>resultado</th>\n",
       "      <th>winner high</th>\n",
       "      <th>loser high</th>\n",
       "      <th>Unnamed: 5</th>\n",
       "      <th>date</th>\n",
       "    </tr>\n",
       "  </thead>\n",
       "  <tbody>\n",
       "    <tr>\n",
       "      <th>0</th>\n",
       "      <td>Brooklyn BKN</td>\n",
       "      <td>Milwaukee MIL</td>\n",
       "      <td>MIL 127, BKN 104</td>\n",
       "      <td>Giannis Antetokounmpo 32 Pts</td>\n",
       "      <td>Kevin Durant 32 Pts</td>\n",
       "      <td>NaN</td>\n",
       "      <td>19-10-2021</td>\n",
       "    </tr>\n",
       "    <tr>\n",
       "      <th>1</th>\n",
       "      <td>Golden State GS</td>\n",
       "      <td>Los Angeles LAL</td>\n",
       "      <td>GS 121, LAL 114</td>\n",
       "      <td>Stephen Curry 21 Pts</td>\n",
       "      <td>LeBron James 34 Pts</td>\n",
       "      <td>NaN</td>\n",
       "      <td>19-10-2021</td>\n",
       "    </tr>\n",
       "    <tr>\n",
       "      <th>0</th>\n",
       "      <td>Indiana IND</td>\n",
       "      <td>Charlotte CHA</td>\n",
       "      <td>CHA 123, IND 122</td>\n",
       "      <td>LaMelo Ball 31 Pts</td>\n",
       "      <td>Domantas Sabonis 33 Pts</td>\n",
       "      <td>NaN</td>\n",
       "      <td>20-10-2021</td>\n",
       "    </tr>\n",
       "    <tr>\n",
       "      <th>1</th>\n",
       "      <td>Chicago CHI</td>\n",
       "      <td>Detroit DET</td>\n",
       "      <td>CHI 94, DET 88</td>\n",
       "      <td>Zach LaVine 34 Pts</td>\n",
       "      <td>Jerami Grant 24 Pts</td>\n",
       "      <td>NaN</td>\n",
       "      <td>20-10-2021</td>\n",
       "    </tr>\n",
       "    <tr>\n",
       "      <th>2</th>\n",
       "      <td>Boston BOS</td>\n",
       "      <td>New York NY</td>\n",
       "      <td>NY 138, BOS 134 (2TE)</td>\n",
       "      <td>Julius Randle 35 Pts</td>\n",
       "      <td>Jaylen Brown 46 Pts</td>\n",
       "      <td>NaN</td>\n",
       "      <td>20-10-2021</td>\n",
       "    </tr>\n",
       "  </tbody>\n",
       "</table>\n",
       "</div>"
      ],
      "text/plain": [
       "           matchup       Unnamed: 1              resultado  \\\n",
       "0     Brooklyn BKN    Milwaukee MIL       MIL 127, BKN 104   \n",
       "1  Golden State GS  Los Angeles LAL        GS 121, LAL 114   \n",
       "0      Indiana IND    Charlotte CHA       CHA 123, IND 122   \n",
       "1      Chicago CHI      Detroit DET         CHI 94, DET 88   \n",
       "2       Boston BOS      New York NY  NY 138, BOS 134 (2TE)   \n",
       "\n",
       "                    winner high               loser high  Unnamed: 5  \\\n",
       "0  Giannis Antetokounmpo 32 Pts      Kevin Durant 32 Pts         NaN   \n",
       "1          Stephen Curry 21 Pts      LeBron James 34 Pts         NaN   \n",
       "0            LaMelo Ball 31 Pts  Domantas Sabonis 33 Pts         NaN   \n",
       "1            Zach LaVine 34 Pts      Jerami Grant 24 Pts         NaN   \n",
       "2          Julius Randle 35 Pts      Jaylen Brown 46 Pts         NaN   \n",
       "\n",
       "         date  \n",
       "0  19-10-2021  \n",
       "1  19-10-2021  \n",
       "0  20-10-2021  \n",
       "1  20-10-2021  \n",
       "2  20-10-2021  "
      ]
     },
     "execution_count": 114,
     "metadata": {},
     "output_type": "execute_result"
    }
   ],
   "source": [
    "baseoutubro.head()"
   ]
  },
  {
   "cell_type": "code",
   "execution_count": 116,
   "id": "4397f4b1",
   "metadata": {},
   "outputs": [
    {
     "data": {
      "text/html": [
       "<div>\n",
       "<style scoped>\n",
       "    .dataframe tbody tr th:only-of-type {\n",
       "        vertical-align: middle;\n",
       "    }\n",
       "\n",
       "    .dataframe tbody tr th {\n",
       "        vertical-align: top;\n",
       "    }\n",
       "\n",
       "    .dataframe thead th {\n",
       "        text-align: right;\n",
       "    }\n",
       "</style>\n",
       "<table border=\"1\" class=\"dataframe\">\n",
       "  <thead>\n",
       "    <tr style=\"text-align: right;\">\n",
       "      <th></th>\n",
       "      <th>matchup</th>\n",
       "      <th>Unnamed: 1</th>\n",
       "      <th>resultado</th>\n",
       "      <th>winner high</th>\n",
       "      <th>loser high</th>\n",
       "      <th>Unnamed: 5</th>\n",
       "      <th>date</th>\n",
       "      <th>0</th>\n",
       "      <th>1</th>\n",
       "      <th>2</th>\n",
       "      <th>3</th>\n",
       "      <th>4</th>\n",
       "      <th>5</th>\n",
       "    </tr>\n",
       "  </thead>\n",
       "  <tbody>\n",
       "    <tr>\n",
       "      <th>0</th>\n",
       "      <td>Cleveland CLE</td>\n",
       "      <td>Charlotte CHA</td>\n",
       "      <td>CLE 113, CHA 110</td>\n",
       "      <td>Jarrett Allen 24 Pts</td>\n",
       "      <td>LaMelo Ball 30 Pts</td>\n",
       "      <td>NaN</td>\n",
       "      <td>01-11-2021</td>\n",
       "      <td>NaN</td>\n",
       "      <td>NaN</td>\n",
       "      <td>NaN</td>\n",
       "      <td>NaN</td>\n",
       "      <td>NaN</td>\n",
       "      <td>NaN</td>\n",
       "    </tr>\n",
       "    <tr>\n",
       "      <th>1</th>\n",
       "      <td>San Antonio SA</td>\n",
       "      <td>Indiana IND</td>\n",
       "      <td>IND 131, SA 118</td>\n",
       "      <td>Domantas Sabonis 24 Pts</td>\n",
       "      <td>Dejounte Murray 16 Pts</td>\n",
       "      <td>NaN</td>\n",
       "      <td>01-11-2021</td>\n",
       "      <td>NaN</td>\n",
       "      <td>NaN</td>\n",
       "      <td>NaN</td>\n",
       "      <td>NaN</td>\n",
       "      <td>NaN</td>\n",
       "      <td>NaN</td>\n",
       "    </tr>\n",
       "    <tr>\n",
       "      <th>2</th>\n",
       "      <td>Portland POR</td>\n",
       "      <td>Philadelphia PHI</td>\n",
       "      <td>PHI 113, POR 103</td>\n",
       "      <td>Seth Curry 23 Pts</td>\n",
       "      <td>Norman Powell 22 Pts</td>\n",
       "      <td>NaN</td>\n",
       "      <td>01-11-2021</td>\n",
       "      <td>NaN</td>\n",
       "      <td>NaN</td>\n",
       "      <td>NaN</td>\n",
       "      <td>NaN</td>\n",
       "      <td>NaN</td>\n",
       "      <td>NaN</td>\n",
       "    </tr>\n",
       "    <tr>\n",
       "      <th>3</th>\n",
       "      <td>Washington WSH</td>\n",
       "      <td>Atlanta ATL</td>\n",
       "      <td>ATL 118, WSH 111</td>\n",
       "      <td>Trae Young 26 Pts</td>\n",
       "      <td>Bradley Beal 24 Pts</td>\n",
       "      <td>NaN</td>\n",
       "      <td>01-11-2021</td>\n",
       "      <td>NaN</td>\n",
       "      <td>NaN</td>\n",
       "      <td>NaN</td>\n",
       "      <td>NaN</td>\n",
       "      <td>NaN</td>\n",
       "      <td>NaN</td>\n",
       "    </tr>\n",
       "    <tr>\n",
       "      <th>4</th>\n",
       "      <td>Chicago CHI</td>\n",
       "      <td>Boston BOS</td>\n",
       "      <td>CHI 128, BOS 114</td>\n",
       "      <td>DeMar DeRozan 37 Pts</td>\n",
       "      <td>Jaylen Brown 28 Pts</td>\n",
       "      <td>NaN</td>\n",
       "      <td>01-11-2021</td>\n",
       "      <td>NaN</td>\n",
       "      <td>NaN</td>\n",
       "      <td>NaN</td>\n",
       "      <td>NaN</td>\n",
       "      <td>NaN</td>\n",
       "      <td>NaN</td>\n",
       "    </tr>\n",
       "  </tbody>\n",
       "</table>\n",
       "</div>"
      ],
      "text/plain": [
       "          matchup        Unnamed: 1         resultado  \\\n",
       "0   Cleveland CLE     Charlotte CHA  CLE 113, CHA 110   \n",
       "1  San Antonio SA       Indiana IND   IND 131, SA 118   \n",
       "2    Portland POR  Philadelphia PHI  PHI 113, POR 103   \n",
       "3  Washington WSH       Atlanta ATL  ATL 118, WSH 111   \n",
       "4     Chicago CHI        Boston BOS  CHI 128, BOS 114   \n",
       "\n",
       "               winner high              loser high  Unnamed: 5        date  \\\n",
       "0     Jarrett Allen 24 Pts      LaMelo Ball 30 Pts         NaN  01-11-2021   \n",
       "1  Domantas Sabonis 24 Pts  Dejounte Murray 16 Pts         NaN  01-11-2021   \n",
       "2        Seth Curry 23 Pts    Norman Powell 22 Pts         NaN  01-11-2021   \n",
       "3        Trae Young 26 Pts     Bradley Beal 24 Pts         NaN  01-11-2021   \n",
       "4     DeMar DeRozan 37 Pts     Jaylen Brown 28 Pts         NaN  01-11-2021   \n",
       "\n",
       "     0    1    2    3    4    5  \n",
       "0  NaN  NaN  NaN  NaN  NaN  NaN  \n",
       "1  NaN  NaN  NaN  NaN  NaN  NaN  \n",
       "2  NaN  NaN  NaN  NaN  NaN  NaN  \n",
       "3  NaN  NaN  NaN  NaN  NaN  NaN  \n",
       "4  NaN  NaN  NaN  NaN  NaN  NaN  "
      ]
     },
     "execution_count": 116,
     "metadata": {},
     "output_type": "execute_result"
    }
   ],
   "source": [
    "basenovembro.head()"
   ]
  },
  {
   "cell_type": "code",
   "execution_count": 117,
   "id": "ede0a13e",
   "metadata": {},
   "outputs": [
    {
     "data": {
      "text/html": [
       "<div>\n",
       "<style scoped>\n",
       "    .dataframe tbody tr th:only-of-type {\n",
       "        vertical-align: middle;\n",
       "    }\n",
       "\n",
       "    .dataframe tbody tr th {\n",
       "        vertical-align: top;\n",
       "    }\n",
       "\n",
       "    .dataframe thead th {\n",
       "        text-align: right;\n",
       "    }\n",
       "</style>\n",
       "<table border=\"1\" class=\"dataframe\">\n",
       "  <thead>\n",
       "    <tr style=\"text-align: right;\">\n",
       "      <th></th>\n",
       "      <th>matchup</th>\n",
       "      <th>Unnamed: 1</th>\n",
       "      <th>resultado</th>\n",
       "      <th>winner high</th>\n",
       "      <th>loser high</th>\n",
       "      <th>Unnamed: 5</th>\n",
       "      <th>date</th>\n",
       "      <th>0</th>\n",
       "      <th>1</th>\n",
       "      <th>2</th>\n",
       "      <th>3</th>\n",
       "      <th>4</th>\n",
       "      <th>5</th>\n",
       "    </tr>\n",
       "  </thead>\n",
       "  <tbody>\n",
       "    <tr>\n",
       "      <th>0</th>\n",
       "      <td>Atlanta ATL</td>\n",
       "      <td>Indiana IND</td>\n",
       "      <td>ATL 114, IND 111</td>\n",
       "      <td>Trae Young 33 Pts</td>\n",
       "      <td>Malcolm Brogdon 27 Pts</td>\n",
       "      <td>NaN</td>\n",
       "      <td>01-12-2021</td>\n",
       "      <td>NaN</td>\n",
       "      <td>NaN</td>\n",
       "      <td>NaN</td>\n",
       "      <td>NaN</td>\n",
       "      <td>NaN</td>\n",
       "      <td>NaN</td>\n",
       "    </tr>\n",
       "    <tr>\n",
       "      <th>1</th>\n",
       "      <td>Denver DEN</td>\n",
       "      <td>Orlando ORL</td>\n",
       "      <td>ORL 108, DEN 103</td>\n",
       "      <td>Cole Anthony 24 Pts</td>\n",
       "      <td>Monte Morris 22 Pts</td>\n",
       "      <td>NaN</td>\n",
       "      <td>01-12-2021</td>\n",
       "      <td>NaN</td>\n",
       "      <td>NaN</td>\n",
       "      <td>NaN</td>\n",
       "      <td>NaN</td>\n",
       "      <td>NaN</td>\n",
       "      <td>NaN</td>\n",
       "    </tr>\n",
       "    <tr>\n",
       "      <th>2</th>\n",
       "      <td>Minnesota MIN</td>\n",
       "      <td>Washington WSH</td>\n",
       "      <td>WSH 115, MIN 107</td>\n",
       "      <td>Montrezl Harrell 27 Pts</td>\n",
       "      <td>Karl-Anthony Towns 34 Pts</td>\n",
       "      <td>NaN</td>\n",
       "      <td>01-12-2021</td>\n",
       "      <td>NaN</td>\n",
       "      <td>NaN</td>\n",
       "      <td>NaN</td>\n",
       "      <td>NaN</td>\n",
       "      <td>NaN</td>\n",
       "      <td>NaN</td>\n",
       "    </tr>\n",
       "    <tr>\n",
       "      <th>3</th>\n",
       "      <td>Philadelphia PHI</td>\n",
       "      <td>Boston BOS</td>\n",
       "      <td>BOS 88, PHI 87</td>\n",
       "      <td>Jayson Tatum 26 Pts</td>\n",
       "      <td>Seth Curry 17 Pts</td>\n",
       "      <td>NaN</td>\n",
       "      <td>01-12-2021</td>\n",
       "      <td>NaN</td>\n",
       "      <td>NaN</td>\n",
       "      <td>NaN</td>\n",
       "      <td>NaN</td>\n",
       "      <td>NaN</td>\n",
       "      <td>NaN</td>\n",
       "    </tr>\n",
       "    <tr>\n",
       "      <th>4</th>\n",
       "      <td>Cleveland CLE</td>\n",
       "      <td>Miami MIA</td>\n",
       "      <td>CLE 111, MIA 85</td>\n",
       "      <td>Kevin Love 22 Pts</td>\n",
       "      <td>Tyler Herro 21 Pts</td>\n",
       "      <td>NaN</td>\n",
       "      <td>01-12-2021</td>\n",
       "      <td>NaN</td>\n",
       "      <td>NaN</td>\n",
       "      <td>NaN</td>\n",
       "      <td>NaN</td>\n",
       "      <td>NaN</td>\n",
       "      <td>NaN</td>\n",
       "    </tr>\n",
       "  </tbody>\n",
       "</table>\n",
       "</div>"
      ],
      "text/plain": [
       "            matchup      Unnamed: 1         resultado  \\\n",
       "0       Atlanta ATL     Indiana IND  ATL 114, IND 111   \n",
       "1        Denver DEN     Orlando ORL  ORL 108, DEN 103   \n",
       "2     Minnesota MIN  Washington WSH  WSH 115, MIN 107   \n",
       "3  Philadelphia PHI      Boston BOS    BOS 88, PHI 87   \n",
       "4     Cleveland CLE       Miami MIA   CLE 111, MIA 85   \n",
       "\n",
       "               winner high                 loser high  Unnamed: 5        date  \\\n",
       "0        Trae Young 33 Pts     Malcolm Brogdon 27 Pts         NaN  01-12-2021   \n",
       "1      Cole Anthony 24 Pts        Monte Morris 22 Pts         NaN  01-12-2021   \n",
       "2  Montrezl Harrell 27 Pts  Karl-Anthony Towns 34 Pts         NaN  01-12-2021   \n",
       "3      Jayson Tatum 26 Pts          Seth Curry 17 Pts         NaN  01-12-2021   \n",
       "4        Kevin Love 22 Pts         Tyler Herro 21 Pts         NaN  01-12-2021   \n",
       "\n",
       "     0    1    2    3    4    5  \n",
       "0  NaN  NaN  NaN  NaN  NaN  NaN  \n",
       "1  NaN  NaN  NaN  NaN  NaN  NaN  \n",
       "2  NaN  NaN  NaN  NaN  NaN  NaN  \n",
       "3  NaN  NaN  NaN  NaN  NaN  NaN  \n",
       "4  NaN  NaN  NaN  NaN  NaN  NaN  "
      ]
     },
     "execution_count": 117,
     "metadata": {},
     "output_type": "execute_result"
    }
   ],
   "source": [
    "basedezembro.head()"
   ]
  },
  {
   "cell_type": "code",
   "execution_count": 118,
   "id": "c71496db",
   "metadata": {},
   "outputs": [
    {
     "data": {
      "text/html": [
       "<div>\n",
       "<style scoped>\n",
       "    .dataframe tbody tr th:only-of-type {\n",
       "        vertical-align: middle;\n",
       "    }\n",
       "\n",
       "    .dataframe tbody tr th {\n",
       "        vertical-align: top;\n",
       "    }\n",
       "\n",
       "    .dataframe thead th {\n",
       "        text-align: right;\n",
       "    }\n",
       "</style>\n",
       "<table border=\"1\" class=\"dataframe\">\n",
       "  <thead>\n",
       "    <tr style=\"text-align: right;\">\n",
       "      <th></th>\n",
       "      <th>matchup</th>\n",
       "      <th>Unnamed: 1</th>\n",
       "      <th>resultado</th>\n",
       "      <th>winner high</th>\n",
       "      <th>loser high</th>\n",
       "      <th>Unnamed: 5</th>\n",
       "      <th>date</th>\n",
       "    </tr>\n",
       "  </thead>\n",
       "  <tbody>\n",
       "    <tr>\n",
       "      <th>0</th>\n",
       "      <td>New Orleans NO</td>\n",
       "      <td>Milwaukee MIL</td>\n",
       "      <td>MIL 136, NO 113</td>\n",
       "      <td>Giannis Antetokounmpo 35 Pts</td>\n",
       "      <td>Jaxson Hayes 23 Pts</td>\n",
       "      <td>NaN</td>\n",
       "      <td>01-01-2022</td>\n",
       "    </tr>\n",
       "    <tr>\n",
       "      <th>1</th>\n",
       "      <td>San Antonio SA</td>\n",
       "      <td>Detroit DET</td>\n",
       "      <td>DET 117, SA 116 (TE)</td>\n",
       "      <td>Hamidou Diallo 34 Pts</td>\n",
       "      <td>Bryn Forbes 27 Pts</td>\n",
       "      <td>NaN</td>\n",
       "      <td>01-01-2022</td>\n",
       "    </tr>\n",
       "    <tr>\n",
       "      <th>2</th>\n",
       "      <td>Chicago CHI</td>\n",
       "      <td>Washington WSH</td>\n",
       "      <td>CHI 120, WSH 119</td>\n",
       "      <td>Zach LaVine 35 Pts</td>\n",
       "      <td>Kyle Kuzma 29 Pts</td>\n",
       "      <td>NaN</td>\n",
       "      <td>01-01-2022</td>\n",
       "    </tr>\n",
       "    <tr>\n",
       "      <th>3</th>\n",
       "      <td>LA LAC</td>\n",
       "      <td>Brooklyn BKN</td>\n",
       "      <td>LAC 120, BKN 116</td>\n",
       "      <td>Eric Bledsoe 27 Pts</td>\n",
       "      <td>James Harden 34 Pts</td>\n",
       "      <td>NaN</td>\n",
       "      <td>01-01-2022</td>\n",
       "    </tr>\n",
       "    <tr>\n",
       "      <th>4</th>\n",
       "      <td>Denver DEN</td>\n",
       "      <td>Houston HOU</td>\n",
       "      <td>DEN 124, HOU 111</td>\n",
       "      <td>Nikola Jokic 24 Pts</td>\n",
       "      <td>Jalen Green 29 Pts</td>\n",
       "      <td>NaN</td>\n",
       "      <td>01-01-2022</td>\n",
       "    </tr>\n",
       "  </tbody>\n",
       "</table>\n",
       "</div>"
      ],
      "text/plain": [
       "          matchup      Unnamed: 1             resultado  \\\n",
       "0  New Orleans NO   Milwaukee MIL       MIL 136, NO 113   \n",
       "1  San Antonio SA     Detroit DET  DET 117, SA 116 (TE)   \n",
       "2     Chicago CHI  Washington WSH      CHI 120, WSH 119   \n",
       "3          LA LAC    Brooklyn BKN      LAC 120, BKN 116   \n",
       "4      Denver DEN     Houston HOU      DEN 124, HOU 111   \n",
       "\n",
       "                    winner high           loser high  Unnamed: 5        date  \n",
       "0  Giannis Antetokounmpo 35 Pts  Jaxson Hayes 23 Pts         NaN  01-01-2022  \n",
       "1         Hamidou Diallo 34 Pts   Bryn Forbes 27 Pts         NaN  01-01-2022  \n",
       "2            Zach LaVine 35 Pts    Kyle Kuzma 29 Pts         NaN  01-01-2022  \n",
       "3           Eric Bledsoe 27 Pts  James Harden 34 Pts         NaN  01-01-2022  \n",
       "4           Nikola Jokic 24 Pts   Jalen Green 29 Pts         NaN  01-01-2022  "
      ]
     },
     "execution_count": 118,
     "metadata": {},
     "output_type": "execute_result"
    }
   ],
   "source": [
    "basejaneiro.head()"
   ]
  },
  {
   "cell_type": "code",
   "execution_count": 135,
   "id": "c2961c96",
   "metadata": {},
   "outputs": [],
   "source": [
    "todos = pd.concat([baseoutubro,basenovembro,basedezembro,basejaneiro])"
   ]
  },
  {
   "cell_type": "code",
   "execution_count": 137,
   "id": "167cef66",
   "metadata": {},
   "outputs": [
    {
     "name": "stdout",
     "output_type": "stream",
     "text": [
      "<class 'pandas.core.frame.DataFrame'>\n",
      "Int64Index: 620 entries, 0 to 8\n",
      "Data columns (total 13 columns):\n",
      " #   Column       Non-Null Count  Dtype  \n",
      "---  ------       --------------  -----  \n",
      " 0   matchup      618 non-null    object \n",
      " 1   Unnamed: 1   618 non-null    object \n",
      " 2   resultado    618 non-null    object \n",
      " 3   winner high  607 non-null    object \n",
      " 4   loser high   607 non-null    object \n",
      " 5   Unnamed: 5   0 non-null      float64\n",
      " 6   date         620 non-null    object \n",
      " 7   0            2 non-null      object \n",
      " 8   1            2 non-null      object \n",
      " 9   2            2 non-null      object \n",
      " 10  3            2 non-null      object \n",
      " 11  4            2 non-null      object \n",
      " 12  5            2 non-null      object \n",
      "dtypes: float64(1), object(12)\n",
      "memory usage: 67.8+ KB\n"
     ]
    }
   ],
   "source": [
    "todos.info()"
   ]
  },
  {
   "cell_type": "code",
   "execution_count": 140,
   "id": "09c6e7b5",
   "metadata": {},
   "outputs": [
    {
     "data": {
      "text/html": [
       "<div>\n",
       "<style scoped>\n",
       "    .dataframe tbody tr th:only-of-type {\n",
       "        vertical-align: middle;\n",
       "    }\n",
       "\n",
       "    .dataframe tbody tr th {\n",
       "        vertical-align: top;\n",
       "    }\n",
       "\n",
       "    .dataframe thead th {\n",
       "        text-align: right;\n",
       "    }\n",
       "</style>\n",
       "<table border=\"1\" class=\"dataframe\">\n",
       "  <thead>\n",
       "    <tr style=\"text-align: right;\">\n",
       "      <th></th>\n",
       "      <th>DATA</th>\n",
       "      <th>VISITANTE</th>\n",
       "      <th>CASA</th>\n",
       "      <th>RESULTADO</th>\n",
       "    </tr>\n",
       "  </thead>\n",
       "  <tbody>\n",
       "    <tr>\n",
       "      <th>0</th>\n",
       "      <td>19-10-2021</td>\n",
       "      <td>Brooklyn BKN</td>\n",
       "      <td>Milwaukee MIL</td>\n",
       "      <td>MIL 127, BKN 104</td>\n",
       "    </tr>\n",
       "    <tr>\n",
       "      <th>1</th>\n",
       "      <td>19-10-2021</td>\n",
       "      <td>Golden State GS</td>\n",
       "      <td>Los Angeles LAL</td>\n",
       "      <td>GS 121, LAL 114</td>\n",
       "    </tr>\n",
       "    <tr>\n",
       "      <th>0</th>\n",
       "      <td>20-10-2021</td>\n",
       "      <td>Indiana IND</td>\n",
       "      <td>Charlotte CHA</td>\n",
       "      <td>CHA 123, IND 122</td>\n",
       "    </tr>\n",
       "    <tr>\n",
       "      <th>1</th>\n",
       "      <td>20-10-2021</td>\n",
       "      <td>Chicago CHI</td>\n",
       "      <td>Detroit DET</td>\n",
       "      <td>CHI 94, DET 88</td>\n",
       "    </tr>\n",
       "    <tr>\n",
       "      <th>2</th>\n",
       "      <td>20-10-2021</td>\n",
       "      <td>Boston BOS</td>\n",
       "      <td>New York NY</td>\n",
       "      <td>NY 138, BOS 134 (2TE)</td>\n",
       "    </tr>\n",
       "    <tr>\n",
       "      <th>...</th>\n",
       "      <td>...</td>\n",
       "      <td>...</td>\n",
       "      <td>...</td>\n",
       "      <td>...</td>\n",
       "    </tr>\n",
       "    <tr>\n",
       "      <th>4</th>\n",
       "      <td>12-01-2022</td>\n",
       "      <td>Dallas DAL</td>\n",
       "      <td>New York NY</td>\n",
       "      <td>NY 108, DAL 85</td>\n",
       "    </tr>\n",
       "    <tr>\n",
       "      <th>5</th>\n",
       "      <td>12-01-2022</td>\n",
       "      <td>Houston HOU</td>\n",
       "      <td>San Antonio SA</td>\n",
       "      <td>HOU 128, SA 124</td>\n",
       "    </tr>\n",
       "    <tr>\n",
       "      <th>6</th>\n",
       "      <td>12-01-2022</td>\n",
       "      <td>Cleveland CLE</td>\n",
       "      <td>Utah UTAH</td>\n",
       "      <td>CLE 111, UTAH 91</td>\n",
       "    </tr>\n",
       "    <tr>\n",
       "      <th>7</th>\n",
       "      <td>12-01-2022</td>\n",
       "      <td>Brooklyn BKN</td>\n",
       "      <td>Chicago CHI</td>\n",
       "      <td>BKN 138, CHI 112</td>\n",
       "    </tr>\n",
       "    <tr>\n",
       "      <th>8</th>\n",
       "      <td>12-01-2022</td>\n",
       "      <td>Los Angeles LAL</td>\n",
       "      <td>Sacramento SAC</td>\n",
       "      <td>SAC 125, LAL 116</td>\n",
       "    </tr>\n",
       "  </tbody>\n",
       "</table>\n",
       "<p>620 rows × 4 columns</p>\n",
       "</div>"
      ],
      "text/plain": [
       "          DATA        VISITANTE             CASA              RESULTADO\n",
       "0   19-10-2021     Brooklyn BKN    Milwaukee MIL       MIL 127, BKN 104\n",
       "1   19-10-2021  Golden State GS  Los Angeles LAL        GS 121, LAL 114\n",
       "0   20-10-2021      Indiana IND    Charlotte CHA       CHA 123, IND 122\n",
       "1   20-10-2021      Chicago CHI      Detroit DET         CHI 94, DET 88\n",
       "2   20-10-2021       Boston BOS      New York NY  NY 138, BOS 134 (2TE)\n",
       "..         ...              ...              ...                    ...\n",
       "4   12-01-2022       Dallas DAL      New York NY         NY 108, DAL 85\n",
       "5   12-01-2022      Houston HOU   San Antonio SA        HOU 128, SA 124\n",
       "6   12-01-2022    Cleveland CLE        Utah UTAH       CLE 111, UTAH 91\n",
       "7   12-01-2022     Brooklyn BKN      Chicago CHI       BKN 138, CHI 112\n",
       "8   12-01-2022  Los Angeles LAL   Sacramento SAC       SAC 125, LAL 116\n",
       "\n",
       "[620 rows x 4 columns]"
      ]
     },
     "execution_count": 140,
     "metadata": {},
     "output_type": "execute_result"
    }
   ],
   "source": [
    "df = todos[['date', 'matchup', 'Unnamed: 1', 'resultado']].copy()\n",
    "df.columns = ['DATA', \"VISITANTE\", 'CASA', 'RESULTADO']\n",
    "df"
   ]
  },
  {
   "cell_type": "code",
   "execution_count": 141,
   "id": "e775c8ff",
   "metadata": {},
   "outputs": [
    {
     "name": "stdout",
     "output_type": "stream",
     "text": [
      "<class 'pandas.core.frame.DataFrame'>\n",
      "Int64Index: 620 entries, 0 to 8\n",
      "Data columns (total 4 columns):\n",
      " #   Column     Non-Null Count  Dtype \n",
      "---  ------     --------------  ----- \n",
      " 0   DATA       620 non-null    object\n",
      " 1   VISITANTE  618 non-null    object\n",
      " 2   CASA       618 non-null    object\n",
      " 3   RESULTADO  618 non-null    object\n",
      "dtypes: object(4)\n",
      "memory usage: 24.2+ KB\n"
     ]
    }
   ],
   "source": [
    "df.info()"
   ]
  },
  {
   "cell_type": "code",
   "execution_count": 142,
   "id": "8eb8f5e8",
   "metadata": {},
   "outputs": [],
   "source": [
    "#Salvando os dados\n",
    "#df.to_excel(\"NBA2021-2022.xlsx\", index=False)"
   ]
  },
  {
   "cell_type": "code",
   "execution_count": null,
   "id": "aad04764",
   "metadata": {},
   "outputs": [],
   "source": []
  },
  {
   "cell_type": "code",
   "execution_count": null,
   "id": "4db30028",
   "metadata": {},
   "outputs": [],
   "source": []
  }
 ],
 "metadata": {
  "kernelspec": {
   "display_name": "Python 3",
   "language": "python",
   "name": "python3"
  },
  "language_info": {
   "codemirror_mode": {
    "name": "ipython",
    "version": 3
   },
   "file_extension": ".py",
   "mimetype": "text/x-python",
   "name": "python",
   "nbconvert_exporter": "python",
   "pygments_lexer": "ipython3",
   "version": "3.8.8"
  }
 },
 "nbformat": 4,
 "nbformat_minor": 5
}
