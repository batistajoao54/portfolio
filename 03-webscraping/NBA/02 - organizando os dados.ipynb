{
 "cells": [
  {
   "cell_type": "code",
   "execution_count": 1,
   "id": "5e61f2ec",
   "metadata": {},
   "outputs": [],
   "source": [
    "import pandas as pd\n"
   ]
  },
  {
   "cell_type": "code",
   "execution_count": 119,
   "id": "d5b60c7e",
   "metadata": {},
   "outputs": [
    {
     "data": {
      "text/html": [
       "<div>\n",
       "<style scoped>\n",
       "    .dataframe tbody tr th:only-of-type {\n",
       "        vertical-align: middle;\n",
       "    }\n",
       "\n",
       "    .dataframe tbody tr th {\n",
       "        vertical-align: top;\n",
       "    }\n",
       "\n",
       "    .dataframe thead th {\n",
       "        text-align: right;\n",
       "    }\n",
       "</style>\n",
       "<table border=\"1\" class=\"dataframe\">\n",
       "  <thead>\n",
       "    <tr style=\"text-align: right;\">\n",
       "      <th></th>\n",
       "      <th>DATA</th>\n",
       "      <th>VISITANTE</th>\n",
       "      <th>CASA</th>\n",
       "      <th>RESULTADO</th>\n",
       "    </tr>\n",
       "  </thead>\n",
       "  <tbody>\n",
       "    <tr>\n",
       "      <th>0</th>\n",
       "      <td>19-10-2021</td>\n",
       "      <td>Brooklyn BKN</td>\n",
       "      <td>Milwaukee MIL</td>\n",
       "      <td>MIL 127, BKN 104</td>\n",
       "    </tr>\n",
       "    <tr>\n",
       "      <th>1</th>\n",
       "      <td>19-10-2021</td>\n",
       "      <td>Golden State GS</td>\n",
       "      <td>Los Angeles LAL</td>\n",
       "      <td>GS 121, LAL 114</td>\n",
       "    </tr>\n",
       "    <tr>\n",
       "      <th>2</th>\n",
       "      <td>20-10-2021</td>\n",
       "      <td>Indiana IND</td>\n",
       "      <td>Charlotte CHA</td>\n",
       "      <td>CHA 123, IND 122</td>\n",
       "    </tr>\n",
       "    <tr>\n",
       "      <th>3</th>\n",
       "      <td>20-10-2021</td>\n",
       "      <td>Chicago CHI</td>\n",
       "      <td>Detroit DET</td>\n",
       "      <td>CHI 94, DET 88</td>\n",
       "    </tr>\n",
       "    <tr>\n",
       "      <th>4</th>\n",
       "      <td>20-10-2021</td>\n",
       "      <td>Boston BOS</td>\n",
       "      <td>New York NY</td>\n",
       "      <td>NY 138, BOS 134 (2TE)</td>\n",
       "    </tr>\n",
       "  </tbody>\n",
       "</table>\n",
       "</div>"
      ],
      "text/plain": [
       "         DATA        VISITANTE             CASA              RESULTADO\n",
       "0  19-10-2021     Brooklyn BKN    Milwaukee MIL       MIL 127, BKN 104\n",
       "1  19-10-2021  Golden State GS  Los Angeles LAL        GS 121, LAL 114\n",
       "2  20-10-2021      Indiana IND    Charlotte CHA       CHA 123, IND 122\n",
       "3  20-10-2021      Chicago CHI      Detroit DET         CHI 94, DET 88\n",
       "4  20-10-2021       Boston BOS      New York NY  NY 138, BOS 134 (2TE)"
      ]
     },
     "execution_count": 119,
     "metadata": {},
     "output_type": "execute_result"
    }
   ],
   "source": [
    "df = pd.read_excel('NBA2021-2022.xlsx')\n",
    "df.head()"
   ]
  },
  {
   "cell_type": "code",
   "execution_count": 120,
   "id": "b6712ec1",
   "metadata": {},
   "outputs": [
    {
     "name": "stdout",
     "output_type": "stream",
     "text": [
      "<class 'pandas.core.frame.DataFrame'>\n",
      "RangeIndex: 620 entries, 0 to 619\n",
      "Data columns (total 4 columns):\n",
      " #   Column     Non-Null Count  Dtype \n",
      "---  ------     --------------  ----- \n",
      " 0   DATA       620 non-null    object\n",
      " 1   VISITANTE  618 non-null    object\n",
      " 2   CASA       618 non-null    object\n",
      " 3   RESULTADO  618 non-null    object\n",
      "dtypes: object(4)\n",
      "memory usage: 19.5+ KB\n"
     ]
    }
   ],
   "source": [
    "df.info()"
   ]
  },
  {
   "cell_type": "code",
   "execution_count": 121,
   "id": "7f96a204",
   "metadata": {},
   "outputs": [],
   "source": [
    "df['RESULTADO'] = df['RESULTADO'].str.replace('Adiado', '')"
   ]
  },
  {
   "cell_type": "code",
   "execution_count": 122,
   "id": "8abf2a96",
   "metadata": {},
   "outputs": [],
   "source": [
    "df.dropna(inplace = True)"
   ]
  },
  {
   "cell_type": "code",
   "execution_count": 123,
   "id": "26247a01",
   "metadata": {},
   "outputs": [
    {
     "name": "stdout",
     "output_type": "stream",
     "text": [
      "<class 'pandas.core.frame.DataFrame'>\n",
      "Int64Index: 618 entries, 0 to 619\n",
      "Data columns (total 4 columns):\n",
      " #   Column     Non-Null Count  Dtype \n",
      "---  ------     --------------  ----- \n",
      " 0   DATA       618 non-null    object\n",
      " 1   VISITANTE  618 non-null    object\n",
      " 2   CASA       618 non-null    object\n",
      " 3   RESULTADO  618 non-null    object\n",
      "dtypes: object(4)\n",
      "memory usage: 24.1+ KB\n"
     ]
    }
   ],
   "source": [
    "df.info()"
   ]
  },
  {
   "cell_type": "code",
   "execution_count": 124,
   "id": "d427b91e",
   "metadata": {},
   "outputs": [
    {
     "data": {
      "text/html": [
       "<div>\n",
       "<style scoped>\n",
       "    .dataframe tbody tr th:only-of-type {\n",
       "        vertical-align: middle;\n",
       "    }\n",
       "\n",
       "    .dataframe tbody tr th {\n",
       "        vertical-align: top;\n",
       "    }\n",
       "\n",
       "    .dataframe thead th {\n",
       "        text-align: right;\n",
       "    }\n",
       "</style>\n",
       "<table border=\"1\" class=\"dataframe\">\n",
       "  <thead>\n",
       "    <tr style=\"text-align: right;\">\n",
       "      <th></th>\n",
       "      <th>DATA</th>\n",
       "      <th>VISITANTE</th>\n",
       "      <th>CASA</th>\n",
       "      <th>RESULTADO</th>\n",
       "    </tr>\n",
       "  </thead>\n",
       "  <tbody>\n",
       "    <tr>\n",
       "      <th>415</th>\n",
       "      <td>14-12-2021</td>\n",
       "      <td>Detroit DET</td>\n",
       "      <td>Chicago CHI</td>\n",
       "      <td></td>\n",
       "    </tr>\n",
       "    <tr>\n",
       "      <th>430</th>\n",
       "      <td>16-12-2021</td>\n",
       "      <td>Chicago CHI</td>\n",
       "      <td>Toronto TOR</td>\n",
       "      <td></td>\n",
       "    </tr>\n",
       "    <tr>\n",
       "      <th>451</th>\n",
       "      <td>19-12-2021</td>\n",
       "      <td>New Orleans NO</td>\n",
       "      <td>Philadelphia PHI</td>\n",
       "      <td></td>\n",
       "    </tr>\n",
       "    <tr>\n",
       "      <th>452</th>\n",
       "      <td>19-12-2021</td>\n",
       "      <td>Cleveland CLE</td>\n",
       "      <td>Atlanta ATL</td>\n",
       "      <td></td>\n",
       "    </tr>\n",
       "    <tr>\n",
       "      <th>453</th>\n",
       "      <td>19-12-2021</td>\n",
       "      <td>Denver DEN</td>\n",
       "      <td>Brooklyn BKN</td>\n",
       "      <td></td>\n",
       "    </tr>\n",
       "    <tr>\n",
       "      <th>458</th>\n",
       "      <td>20-12-2021</td>\n",
       "      <td>Orlando ORL</td>\n",
       "      <td>Toronto TOR</td>\n",
       "      <td></td>\n",
       "    </tr>\n",
       "    <tr>\n",
       "      <th>464</th>\n",
       "      <td>21-12-2021</td>\n",
       "      <td>Washington WSH</td>\n",
       "      <td>Brooklyn BKN</td>\n",
       "      <td></td>\n",
       "    </tr>\n",
       "    <tr>\n",
       "      <th>472</th>\n",
       "      <td>22-12-2021</td>\n",
       "      <td>Toronto TOR</td>\n",
       "      <td>Chicago CHI</td>\n",
       "      <td></td>\n",
       "    </tr>\n",
       "    <tr>\n",
       "      <th>486</th>\n",
       "      <td>23-12-2021</td>\n",
       "      <td>Brooklyn BKN</td>\n",
       "      <td>Portland POR</td>\n",
       "      <td></td>\n",
       "    </tr>\n",
       "    <tr>\n",
       "      <th>522</th>\n",
       "      <td>29-12-2021</td>\n",
       "      <td>Miami MIA</td>\n",
       "      <td>San Antonio SA</td>\n",
       "      <td></td>\n",
       "    </tr>\n",
       "    <tr>\n",
       "      <th>529</th>\n",
       "      <td>30-12-2021</td>\n",
       "      <td>Golden State GS</td>\n",
       "      <td>Denver DEN</td>\n",
       "      <td></td>\n",
       "    </tr>\n",
       "  </tbody>\n",
       "</table>\n",
       "</div>"
      ],
      "text/plain": [
       "           DATA        VISITANTE              CASA RESULTADO\n",
       "415  14-12-2021      Detroit DET       Chicago CHI          \n",
       "430  16-12-2021      Chicago CHI       Toronto TOR          \n",
       "451  19-12-2021   New Orleans NO  Philadelphia PHI          \n",
       "452  19-12-2021    Cleveland CLE       Atlanta ATL          \n",
       "453  19-12-2021       Denver DEN      Brooklyn BKN          \n",
       "458  20-12-2021      Orlando ORL       Toronto TOR          \n",
       "464  21-12-2021   Washington WSH      Brooklyn BKN          \n",
       "472  22-12-2021      Toronto TOR       Chicago CHI          \n",
       "486  23-12-2021     Brooklyn BKN      Portland POR          \n",
       "522  29-12-2021        Miami MIA    San Antonio SA          \n",
       "529  30-12-2021  Golden State GS        Denver DEN          "
      ]
     },
     "execution_count": 124,
     "metadata": {},
     "output_type": "execute_result"
    }
   ],
   "source": [
    "df[df['RESULTADO'] == '']"
   ]
  },
  {
   "cell_type": "code",
   "execution_count": 125,
   "id": "20567be6",
   "metadata": {},
   "outputs": [],
   "source": [
    "df.drop([415,430,451,452,453,458,464,472,486,522,529], inplace=True)\n"
   ]
  },
  {
   "cell_type": "code",
   "execution_count": 126,
   "id": "93fd4f91",
   "metadata": {},
   "outputs": [
    {
     "name": "stdout",
     "output_type": "stream",
     "text": [
      "<class 'pandas.core.frame.DataFrame'>\n",
      "Int64Index: 607 entries, 0 to 619\n",
      "Data columns (total 4 columns):\n",
      " #   Column     Non-Null Count  Dtype \n",
      "---  ------     --------------  ----- \n",
      " 0   DATA       607 non-null    object\n",
      " 1   VISITANTE  607 non-null    object\n",
      " 2   CASA       607 non-null    object\n",
      " 3   RESULTADO  607 non-null    object\n",
      "dtypes: object(4)\n",
      "memory usage: 23.7+ KB\n"
     ]
    }
   ],
   "source": [
    "df.info()"
   ]
  },
  {
   "cell_type": "code",
   "execution_count": 127,
   "id": "196a46a0",
   "metadata": {},
   "outputs": [],
   "source": [
    "visitante = list(df['VISITANTE'].copy())\n",
    "visitante_ = []"
   ]
  },
  {
   "cell_type": "code",
   "execution_count": 128,
   "id": "8913cfe5",
   "metadata": {},
   "outputs": [
    {
     "name": "stdout",
     "output_type": "stream",
     "text": [
      "fim\n"
     ]
    }
   ],
   "source": [
    "for i in range(len(visitante)):\n",
    "    time = visitante[i][-3:]\n",
    "    visitante_.append(time)\n",
    "print('fim')"
   ]
  },
  {
   "cell_type": "code",
   "execution_count": 129,
   "id": "e901ec62",
   "metadata": {},
   "outputs": [
    {
     "data": {
      "text/plain": [
       "'BKN'"
      ]
     },
     "execution_count": 129,
     "metadata": {},
     "output_type": "execute_result"
    }
   ],
   "source": [
    "visitante_[0]"
   ]
  },
  {
   "cell_type": "code",
   "execution_count": 130,
   "id": "835efb04",
   "metadata": {},
   "outputs": [],
   "source": [
    "casa = list(df['CASA'].copy())\n",
    "casa_ = []"
   ]
  },
  {
   "cell_type": "code",
   "execution_count": 131,
   "id": "79ecf57d",
   "metadata": {},
   "outputs": [
    {
     "name": "stdout",
     "output_type": "stream",
     "text": [
      "fim\n"
     ]
    }
   ],
   "source": [
    " for i in range(len(casa)):\n",
    "    time = casa[i][-3:]\n",
    "    casa_.append(time)\n",
    "print('fim')"
   ]
  },
  {
   "cell_type": "code",
   "execution_count": 132,
   "id": "b61ed4c2",
   "metadata": {},
   "outputs": [
    {
     "data": {
      "text/plain": [
       "'MIL'"
      ]
     },
     "execution_count": 132,
     "metadata": {},
     "output_type": "execute_result"
    }
   ],
   "source": [
    "casa_[0]"
   ]
  },
  {
   "cell_type": "code",
   "execution_count": 85,
   "id": "478f61ab",
   "metadata": {},
   "outputs": [],
   "source": [
    "\n"
   ]
  },
  {
   "cell_type": "code",
   "execution_count": 133,
   "id": "3e70e91f",
   "metadata": {},
   "outputs": [
    {
     "data": {
      "text/plain": [
       "0            MIL 127, BKN 104\n",
       "1             GS 121, LAL 114\n",
       "2            CHA 123, IND 122\n",
       "3              CHI 94, DET 88\n",
       "4       NY 138, BOS 134 (2TE)\n",
       "                ...          \n",
       "289            NO 98, UTAH 97\n",
       "290           GS 118, POR 103\n",
       "291    SAC 141, LAL 137 (3TE)\n",
       "292    MIN 121, PHI 120 (2TE)\n",
       "293             NY 99, ATL 90\n",
       "Name: RESULTADO, Length: 293, dtype: object"
      ]
     },
     "execution_count": 133,
     "metadata": {},
     "output_type": "execute_result"
    }
   ],
   "source": [
    "df['RESULTADO'].head(293)"
   ]
  },
  {
   "cell_type": "code",
   "execution_count": 134,
   "id": "37f6043e",
   "metadata": {},
   "outputs": [],
   "source": [
    "c = df['RESULTADO'].apply(lambda x: x.replace('(2TE)', ''))\n",
    "#df['RESULTADO'].apply(lambda x: x.replace('(3)', ''))"
   ]
  },
  {
   "cell_type": "code",
   "execution_count": 135,
   "id": "f4eaaeca",
   "metadata": {},
   "outputs": [
    {
     "data": {
      "text/plain": [
       "0            MIL 127, BKN 104\n",
       "1             GS 121, LAL 114\n",
       "2            CHA 123, IND 122\n",
       "3              CHI 94, DET 88\n",
       "4            NY 138, BOS 134 \n",
       "                ...          \n",
       "289            NO 98, UTAH 97\n",
       "290           GS 118, POR 103\n",
       "291    SAC 141, LAL 137 (3TE)\n",
       "292         MIN 121, PHI 120 \n",
       "293             NY 99, ATL 90\n",
       "Name: RESULTADO, Length: 293, dtype: object"
      ]
     },
     "execution_count": 135,
     "metadata": {},
     "output_type": "execute_result"
    }
   ],
   "source": [
    "c.head(293)"
   ]
  },
  {
   "cell_type": "code",
   "execution_count": 136,
   "id": "7d2e79c0",
   "metadata": {},
   "outputs": [],
   "source": [
    "d = c.apply(lambda x: x.replace('(3TE)', ''))"
   ]
  },
  {
   "cell_type": "code",
   "execution_count": 144,
   "id": "a82b8704",
   "metadata": {},
   "outputs": [],
   "source": [
    "e = d.apply(lambda x: x.replace('(TE)', ''))"
   ]
  },
  {
   "cell_type": "code",
   "execution_count": 145,
   "id": "25a7c5b8",
   "metadata": {},
   "outputs": [
    {
     "data": {
      "text/plain": [
       "0       MIL 127, BKN 104\n",
       "1        GS 121, LAL 114\n",
       "2       CHA 123, IND 122\n",
       "3         CHI 94, DET 88\n",
       "4       NY 138, BOS 134 \n",
       "             ...        \n",
       "289       NO 98, UTAH 97\n",
       "290      GS 118, POR 103\n",
       "291    SAC 141, LAL 137 \n",
       "292    MIN 121, PHI 120 \n",
       "293        NY 99, ATL 90\n",
       "Name: RESULTADO, Length: 293, dtype: object"
      ]
     },
     "execution_count": 145,
     "metadata": {},
     "output_type": "execute_result"
    }
   ],
   "source": [
    "e.head(293)"
   ]
  },
  {
   "cell_type": "code",
   "execution_count": 171,
   "id": "736d2c85",
   "metadata": {},
   "outputs": [],
   "source": [
    "resultado = list(e)\n",
    "resultado_win = []\n",
    "resultado_loser = []\n",
    "ponto_win = []\n",
    "ponto_loser = []"
   ]
  },
  {
   "cell_type": "code",
   "execution_count": 172,
   "id": "c58e44cf",
   "metadata": {},
   "outputs": [],
   "source": [
    "for i in range(len(resultado)):\n",
    "    win_ponto = int(resultado[i].split(',')[0].strip()[-3:])\n",
    "    loser_ponto = int(resultado[i].split(',')[1].strip()[-3:])\n",
    "    \n",
    "    win_resultado = resultado[i].split(',')[0].strip()[:3]\n",
    "    loser_resultado = resultado[i].split(',')[1].strip()[:3]\n",
    "    \n",
    "    ponto_win.append(win_ponto)\n",
    "    ponto_loser.append(loser_ponto)\n",
    "    resultado_win.append(win_resultado)\n",
    "    resultado_loser.append(loser_resultado)"
   ]
  },
  {
   "cell_type": "code",
   "execution_count": null,
   "id": "5f4657fd",
   "metadata": {},
   "outputs": [],
   "source": []
  },
  {
   "cell_type": "code",
   "execution_count": 173,
   "id": "ffdd7234",
   "metadata": {},
   "outputs": [
    {
     "data": {
      "text/plain": [
       "127"
      ]
     },
     "execution_count": 173,
     "metadata": {},
     "output_type": "execute_result"
    }
   ],
   "source": [
    "ponto_win[0]"
   ]
  },
  {
   "cell_type": "code",
   "execution_count": 174,
   "id": "74d7a5e6",
   "metadata": {},
   "outputs": [
    {
     "data": {
      "text/plain": [
       "104"
      ]
     },
     "execution_count": 174,
     "metadata": {},
     "output_type": "execute_result"
    }
   ],
   "source": [
    "ponto_loser[0]"
   ]
  },
  {
   "cell_type": "code",
   "execution_count": 175,
   "id": "8dc2ec10",
   "metadata": {},
   "outputs": [
    {
     "data": {
      "text/plain": [
       "'MIL'"
      ]
     },
     "execution_count": 175,
     "metadata": {},
     "output_type": "execute_result"
    }
   ],
   "source": [
    "resultado_win[0]"
   ]
  },
  {
   "cell_type": "code",
   "execution_count": 176,
   "id": "7e32bf96",
   "metadata": {},
   "outputs": [
    {
     "data": {
      "text/plain": [
       "'BKN'"
      ]
     },
     "execution_count": 176,
     "metadata": {},
     "output_type": "execute_result"
    }
   ],
   "source": [
    "resultado_loser[0]"
   ]
  },
  {
   "cell_type": "code",
   "execution_count": 177,
   "id": "6f494909",
   "metadata": {},
   "outputs": [],
   "source": [
    "data = list(df[\"DATA\"]).copy()"
   ]
  },
  {
   "cell_type": "code",
   "execution_count": 193,
   "id": "908e379c",
   "metadata": {},
   "outputs": [],
   "source": [
    "#agora o resultado final da modelagem de dados\n",
    "\n",
    "base_dados = pd.DataFrame()\n",
    "\n",
    "base_dados['DATA'] = data\n",
    "base_dados['VISITANTE'] = visitante_\n",
    "base_dados['CASA'] = casa_\n",
    "base_dados['VENCEDOR'] = resultado_win\n",
    "base_dados['WIN_PONTOS'] = ponto_win\n",
    "base_dados['LOSER_PONTOS'] = ponto_loser\n",
    "base_dados['PERDEDOR'] = resultado_loser\n",
    "\n"
   ]
  },
  {
   "cell_type": "code",
   "execution_count": 194,
   "id": "9e9698a4",
   "metadata": {},
   "outputs": [
    {
     "data": {
      "text/html": [
       "<div>\n",
       "<style scoped>\n",
       "    .dataframe tbody tr th:only-of-type {\n",
       "        vertical-align: middle;\n",
       "    }\n",
       "\n",
       "    .dataframe tbody tr th {\n",
       "        vertical-align: top;\n",
       "    }\n",
       "\n",
       "    .dataframe thead th {\n",
       "        text-align: right;\n",
       "    }\n",
       "</style>\n",
       "<table border=\"1\" class=\"dataframe\">\n",
       "  <thead>\n",
       "    <tr style=\"text-align: right;\">\n",
       "      <th></th>\n",
       "      <th>DATA</th>\n",
       "      <th>VISITANTE</th>\n",
       "      <th>CASA</th>\n",
       "      <th>VENCEDOR</th>\n",
       "      <th>WIN_PONTOS</th>\n",
       "      <th>LOSER_PONTOS</th>\n",
       "      <th>PERDEDOR</th>\n",
       "    </tr>\n",
       "  </thead>\n",
       "  <tbody>\n",
       "    <tr>\n",
       "      <th>0</th>\n",
       "      <td>19-10-2021</td>\n",
       "      <td>BKN</td>\n",
       "      <td>MIL</td>\n",
       "      <td>MIL</td>\n",
       "      <td>127</td>\n",
       "      <td>104</td>\n",
       "      <td>BKN</td>\n",
       "    </tr>\n",
       "    <tr>\n",
       "      <th>1</th>\n",
       "      <td>19-10-2021</td>\n",
       "      <td>GS</td>\n",
       "      <td>LAL</td>\n",
       "      <td>GS</td>\n",
       "      <td>121</td>\n",
       "      <td>114</td>\n",
       "      <td>LAL</td>\n",
       "    </tr>\n",
       "    <tr>\n",
       "      <th>2</th>\n",
       "      <td>20-10-2021</td>\n",
       "      <td>IND</td>\n",
       "      <td>CHA</td>\n",
       "      <td>CHA</td>\n",
       "      <td>123</td>\n",
       "      <td>122</td>\n",
       "      <td>IND</td>\n",
       "    </tr>\n",
       "    <tr>\n",
       "      <th>3</th>\n",
       "      <td>20-10-2021</td>\n",
       "      <td>CHI</td>\n",
       "      <td>DET</td>\n",
       "      <td>CHI</td>\n",
       "      <td>94</td>\n",
       "      <td>88</td>\n",
       "      <td>DET</td>\n",
       "    </tr>\n",
       "    <tr>\n",
       "      <th>4</th>\n",
       "      <td>20-10-2021</td>\n",
       "      <td>BOS</td>\n",
       "      <td>NY</td>\n",
       "      <td>NY</td>\n",
       "      <td>138</td>\n",
       "      <td>134</td>\n",
       "      <td>BOS</td>\n",
       "    </tr>\n",
       "    <tr>\n",
       "      <th>...</th>\n",
       "      <td>...</td>\n",
       "      <td>...</td>\n",
       "      <td>...</td>\n",
       "      <td>...</td>\n",
       "      <td>...</td>\n",
       "      <td>...</td>\n",
       "      <td>...</td>\n",
       "    </tr>\n",
       "    <tr>\n",
       "      <th>602</th>\n",
       "      <td>12-01-2022</td>\n",
       "      <td>DAL</td>\n",
       "      <td>NY</td>\n",
       "      <td>NY</td>\n",
       "      <td>108</td>\n",
       "      <td>85</td>\n",
       "      <td>DAL</td>\n",
       "    </tr>\n",
       "    <tr>\n",
       "      <th>603</th>\n",
       "      <td>12-01-2022</td>\n",
       "      <td>HOU</td>\n",
       "      <td>SA</td>\n",
       "      <td>HOU</td>\n",
       "      <td>128</td>\n",
       "      <td>124</td>\n",
       "      <td>SA</td>\n",
       "    </tr>\n",
       "    <tr>\n",
       "      <th>604</th>\n",
       "      <td>12-01-2022</td>\n",
       "      <td>CLE</td>\n",
       "      <td>TAH</td>\n",
       "      <td>CLE</td>\n",
       "      <td>111</td>\n",
       "      <td>91</td>\n",
       "      <td>UTA</td>\n",
       "    </tr>\n",
       "    <tr>\n",
       "      <th>605</th>\n",
       "      <td>12-01-2022</td>\n",
       "      <td>BKN</td>\n",
       "      <td>CHI</td>\n",
       "      <td>BKN</td>\n",
       "      <td>138</td>\n",
       "      <td>112</td>\n",
       "      <td>CHI</td>\n",
       "    </tr>\n",
       "    <tr>\n",
       "      <th>606</th>\n",
       "      <td>12-01-2022</td>\n",
       "      <td>LAL</td>\n",
       "      <td>SAC</td>\n",
       "      <td>SAC</td>\n",
       "      <td>125</td>\n",
       "      <td>116</td>\n",
       "      <td>LAL</td>\n",
       "    </tr>\n",
       "  </tbody>\n",
       "</table>\n",
       "<p>607 rows × 7 columns</p>\n",
       "</div>"
      ],
      "text/plain": [
       "           DATA VISITANTE CASA VENCEDOR  WIN_PONTOS  LOSER_PONTOS PERDEDOR\n",
       "0    19-10-2021       BKN  MIL      MIL         127           104      BKN\n",
       "1    19-10-2021        GS  LAL      GS          121           114      LAL\n",
       "2    20-10-2021       IND  CHA      CHA         123           122      IND\n",
       "3    20-10-2021       CHI  DET      CHI          94            88      DET\n",
       "4    20-10-2021       BOS   NY      NY          138           134      BOS\n",
       "..          ...       ...  ...      ...         ...           ...      ...\n",
       "602  12-01-2022       DAL   NY      NY          108            85      DAL\n",
       "603  12-01-2022       HOU   SA      HOU         128           124      SA \n",
       "604  12-01-2022       CLE  TAH      CLE         111            91      UTA\n",
       "605  12-01-2022       BKN  CHI      BKN         138           112      CHI\n",
       "606  12-01-2022       LAL  SAC      SAC         125           116      LAL\n",
       "\n",
       "[607 rows x 7 columns]"
      ]
     },
     "execution_count": 194,
     "metadata": {},
     "output_type": "execute_result"
    }
   ],
   "source": [
    "base_dados"
   ]
  },
  {
   "cell_type": "code",
   "execution_count": 195,
   "id": "91683318",
   "metadata": {},
   "outputs": [
    {
     "name": "stdout",
     "output_type": "stream",
     "text": [
      "<class 'pandas.core.frame.DataFrame'>\n",
      "RangeIndex: 607 entries, 0 to 606\n",
      "Data columns (total 7 columns):\n",
      " #   Column        Non-Null Count  Dtype \n",
      "---  ------        --------------  ----- \n",
      " 0   DATA          607 non-null    object\n",
      " 1   VISITANTE     607 non-null    object\n",
      " 2   CASA          607 non-null    object\n",
      " 3   VENCEDOR      607 non-null    object\n",
      " 4   WIN_PONTOS    607 non-null    int64 \n",
      " 5   LOSER_PONTOS  607 non-null    int64 \n",
      " 6   PERDEDOR      607 non-null    object\n",
      "dtypes: int64(2), object(5)\n",
      "memory usage: 33.3+ KB\n"
     ]
    }
   ],
   "source": [
    "base_dados.info()"
   ]
  },
  {
   "cell_type": "code",
   "execution_count": 197,
   "id": "2aee5687",
   "metadata": {},
   "outputs": [],
   "source": [
    "#base_dados.to_excel('NBA_Atual.xlsx', index=False)"
   ]
  },
  {
   "cell_type": "code",
   "execution_count": null,
   "id": "77607e69",
   "metadata": {},
   "outputs": [],
   "source": []
  },
  {
   "cell_type": "code",
   "execution_count": null,
   "id": "584c3ad9",
   "metadata": {},
   "outputs": [],
   "source": []
  },
  {
   "cell_type": "code",
   "execution_count": null,
   "id": "aa4321a1",
   "metadata": {},
   "outputs": [],
   "source": []
  },
  {
   "cell_type": "code",
   "execution_count": null,
   "id": "7d89b292",
   "metadata": {},
   "outputs": [],
   "source": []
  },
  {
   "cell_type": "code",
   "execution_count": null,
   "id": "510eac72",
   "metadata": {},
   "outputs": [],
   "source": []
  },
  {
   "cell_type": "code",
   "execution_count": null,
   "id": "d35f5c47",
   "metadata": {},
   "outputs": [],
   "source": []
  },
  {
   "cell_type": "code",
   "execution_count": null,
   "id": "6faa6169",
   "metadata": {},
   "outputs": [],
   "source": []
  }
 ],
 "metadata": {
  "kernelspec": {
   "display_name": "Python 3",
   "language": "python",
   "name": "python3"
  },
  "language_info": {
   "codemirror_mode": {
    "name": "ipython",
    "version": 3
   },
   "file_extension": ".py",
   "mimetype": "text/x-python",
   "name": "python",
   "nbconvert_exporter": "python",
   "pygments_lexer": "ipython3",
   "version": "3.8.8"
  }
 },
 "nbformat": 4,
 "nbformat_minor": 5
}
